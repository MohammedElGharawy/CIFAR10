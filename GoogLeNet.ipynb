{
  "nbformat": 4,
  "nbformat_minor": 0,
  "metadata": {
    "colab": {
      "name": "GoogLeNet.ipynb",
      "provenance": [],
      "machine_shape": "hm",
      "include_colab_link": true
    },
    "kernelspec": {
      "name": "python3",
      "display_name": "Python 3"
    },
    "accelerator": "GPU"
  },
  "cells": [
    {
      "cell_type": "markdown",
      "metadata": {
        "id": "view-in-github",
        "colab_type": "text"
      },
      "source": [
        "<a href=\"https://colab.research.google.com/github/MohammedElGharawy/CIFAR10/blob/main/GoogLeNet.ipynb\" target=\"_parent\"><img src=\"https://colab.research.google.com/assets/colab-badge.svg\" alt=\"Open In Colab\"/></a>"
      ]
    },
    {
      "cell_type": "code",
      "metadata": {
        "id": "W_nWC6GmFVLS",
        "outputId": "297d27b1-0247-47c8-b77d-316aef202f11",
        "colab": {
          "base_uri": "https://localhost:8080/",
          "height": 80
        }
      },
      "source": [
        "import keras\n",
        "from keras.layers.core import Layer\n",
        "import keras.backend as K\n",
        "import tensorflow as tf\n",
        "from keras.datasets import cifar10"
      ],
      "execution_count": null,
      "outputs": [
        {
          "output_type": "stream",
          "text": [
            "Using TensorFlow backend.\n"
          ],
          "name": "stderr"
        },
        {
          "output_type": "display_data",
          "data": {
            "text/html": [
              "<p style=\"color: red;\">\n",
              "The default version of TensorFlow in Colab will soon switch to TensorFlow 2.x.<br>\n",
              "We recommend you <a href=\"https://www.tensorflow.org/guide/migrate\" target=\"_blank\">upgrade</a> now \n",
              "or ensure your notebook will continue to use TensorFlow 1.x via the <code>%tensorflow_version 1.x</code> magic:\n",
              "<a href=\"https://colab.research.google.com/notebooks/tensorflow_version.ipynb\" target=\"_blank\">more info</a>.</p>\n"
            ],
            "text/plain": [
              "<IPython.core.display.HTML object>"
            ]
          },
          "metadata": {
            "tags": []
          }
        }
      ]
    },
    {
      "cell_type": "code",
      "metadata": {
        "id": "TBGhTFhAFWls"
      },
      "source": [
        "from keras.models import Model\n",
        "from keras.layers import Conv2D, MaxPool2D,  \\\n",
        "    Dropout, Dense, Input, concatenate,      \\\n",
        "    GlobalAveragePooling2D, AveragePooling2D,\\\n",
        "    Flatten\n",
        "\n",
        "import cv2 \n",
        "import numpy as np \n",
        "from keras.datasets import cifar10 \n",
        "from keras import backend as K \n",
        "from keras.utils import np_utils\n",
        "\n",
        "import math \n",
        "from keras.optimizers import SGD \n",
        "from keras.callbacks import LearningRateScheduler"
      ],
      "execution_count": null,
      "outputs": []
    },
    {
      "cell_type": "code",
      "metadata": {
        "id": "oLYMTzzpLsoO",
        "outputId": "b688066a-7d31-4f14-d32e-f47b033315d9",
        "colab": {
          "base_uri": "https://localhost:8080/",
          "height": 34
        }
      },
      "source": [
        " (X_train, Y_train), (X_valid, Y_valid) = cifar10.load_data()\n",
        "X_train.shape"
      ],
      "execution_count": null,
      "outputs": [
        {
          "output_type": "execute_result",
          "data": {
            "text/plain": [
              "(50000, 32, 32, 3)"
            ]
          },
          "metadata": {
            "tags": []
          },
          "execution_count": 3
        }
      ]
    },
    {
      "cell_type": "code",
      "metadata": {
        "id": "J-2xbx9Q6wlZ",
        "outputId": "a3347294-949a-4c75-82e1-752830876bc4",
        "colab": {
          "base_uri": "https://localhost:8080/",
          "height": 34
        }
      },
      "source": [
        "X_train.shape"
      ],
      "execution_count": null,
      "outputs": [
        {
          "output_type": "execute_result",
          "data": {
            "text/plain": [
              "(50000, 32, 32, 3)"
            ]
          },
          "metadata": {
            "tags": []
          },
          "execution_count": 5
        }
      ]
    },
    {
      "cell_type": "code",
      "metadata": {
        "id": "qAmV8ownFb3t"
      },
      "source": [
        "num_classes = 10\n",
        "\n",
        "def load_cifar10_data(img_rows, img_cols):\n",
        "\n",
        "    # Load cifar10 training and validation sets\n",
        "    (X_train, Y_train), (X_valid, Y_valid) = cifar10.load_data()\n",
        "    # Resize training images\n",
        "    X_train = np.array([cv2.resize(img, (img_rows,img_cols)) for img in X_train[:,:,:,:]])\n",
        "    X_valid = np.array([cv2.resize(img, (img_rows,img_cols)) for img in X_valid[:,:,:,:]])\n",
        "\n",
        "    # Transform targets to keras compatible format\n",
        "    Y_train = np_utils.to_categorical(Y_train, num_classes)\n",
        "    Y_valid = np_utils.to_categorical(Y_valid, num_classes)\n",
        "    \n",
        "    X_train = X_train.astype('float32')\n",
        "    X_valid = X_valid.astype('float32')\n",
        "\n",
        "    # preprocess data\n",
        "    X_train = X_train / 255.0\n",
        "    X_valid = X_valid / 255.0\n",
        "    \n",
        "    return X_train, Y_train, X_valid, Y_valid\n",
        "X_train, y_train, X_test, y_test = load_cifar10_data(112, 112)"
      ],
      "execution_count": null,
      "outputs": []
    },
    {
      "cell_type": "code",
      "metadata": {
        "id": "hLMcQ11967Pf",
        "outputId": "a8642a18-74b6-49cb-e51d-9bead065bd2f",
        "colab": {
          "base_uri": "https://localhost:8080/",
          "height": 34
        }
      },
      "source": [
        "y_test.shape"
      ],
      "execution_count": null,
      "outputs": [
        {
          "output_type": "execute_result",
          "data": {
            "text/plain": [
              "(10000, 10)"
            ]
          },
          "metadata": {
            "tags": []
          },
          "execution_count": 7
        }
      ]
    },
    {
      "cell_type": "code",
      "metadata": {
        "id": "mAoW_3Sd5zNu"
      },
      "source": [
        "X_train=X_train.reshape((50000, 112, 112, 3))\n",
        "X_test=X_test.reshape((10000, 112, 112, 3))"
      ],
      "execution_count": null,
      "outputs": []
    },
    {
      "cell_type": "code",
      "metadata": {
        "id": "YQRsTNKiFgpW"
      },
      "source": [
        "def inception_module(x,\n",
        "                     filters_1x1,\n",
        "                     filters_3x3_reduce,\n",
        "                     filters_3x3,\n",
        "                     filters_5x5_reduce,\n",
        "                     filters_5x5,\n",
        "                     filters_pool_proj,\n",
        "                     name=None):\n",
        "    \n",
        "    conv_1x1 = Conv2D(filters_1x1, (1, 1), padding='same', activation='relu', kernel_initializer=kernel_init, bias_initializer=bias_init)(x)\n",
        "    \n",
        "    conv_3x3 = Conv2D(filters_3x3_reduce, (1, 1), padding='same', activation='relu', kernel_initializer=kernel_init, bias_initializer=bias_init)(x)\n",
        "    conv_3x3 = Conv2D(filters_3x3, (3, 3), padding='same', activation='relu', kernel_initializer=kernel_init, bias_initializer=bias_init)(conv_3x3)\n",
        "\n",
        "    conv_5x5 = Conv2D(filters_5x5_reduce, (1, 1), padding='same', activation='relu', kernel_initializer=kernel_init, bias_initializer=bias_init)(x)\n",
        "    conv_5x5 = Conv2D(filters_5x5, (5, 5), padding='same', activation='relu', kernel_initializer=kernel_init, bias_initializer=bias_init)(conv_5x5)\n",
        "\n",
        "    pool_proj = MaxPool2D((3, 3), strides=(1, 1), padding='same')(x)\n",
        "    pool_proj = Conv2D(filters_pool_proj, (1, 1), padding='same', activation='relu', kernel_initializer=kernel_init, bias_initializer=bias_init)(pool_proj)\n",
        "\n",
        "    output = concatenate([conv_1x1, conv_3x3, conv_5x5, pool_proj], axis=3, name=name)\n",
        "    \n",
        "    return output"
      ],
      "execution_count": null,
      "outputs": []
    },
    {
      "cell_type": "code",
      "metadata": {
        "id": "7e_iiyeBFlDD"
      },
      "source": [
        "kernel_init = keras.initializers.glorot_uniform()\n",
        "bias_init = keras.initializers.Constant(value=0.2)"
      ],
      "execution_count": null,
      "outputs": []
    },
    {
      "cell_type": "code",
      "metadata": {
        "id": "OySxOl89FolM",
        "outputId": "411a731f-ca72-4c7f-a4ae-c8f4200a7816",
        "colab": {
          "base_uri": "https://localhost:8080/",
          "height": 326
        }
      },
      "source": [
        "input_layer = Input(shape=(112, 112, 3))\n",
        "\n",
        "x = Conv2D(64, (7, 7), padding='same', strides=(2, 2), activation='relu', name='conv_1_7x7/2', kernel_initializer=kernel_init, bias_initializer=bias_init)(input_layer)\n",
        "x = MaxPool2D((3, 3), padding='same', strides=(2, 2), name='max_pool_1_3x3/2')(x)\n",
        "x = Conv2D(64, (1, 1), padding='same', strides=(1, 1), activation='relu', name='conv_2a_3x3/1')(x)\n",
        "x = Conv2D(192, (3, 3), padding='same', strides=(1, 1), activation='relu', name='conv_2b_3x3/1')(x)\n",
        "x = MaxPool2D((3, 3), padding='same', strides=(2, 2), name='max_pool_2_3x3/2')(x)\n",
        "\n",
        "x = inception_module(x,\n",
        "                     filters_1x1=64,\n",
        "                     filters_3x3_reduce=96,\n",
        "                     filters_3x3=128,\n",
        "                     filters_5x5_reduce=16,\n",
        "                     filters_5x5=32,\n",
        "                     filters_pool_proj=32,\n",
        "                     name='inception_3a')\n",
        "\n",
        "x = inception_module(x,\n",
        "                     filters_1x1=128,\n",
        "                     filters_3x3_reduce=128,\n",
        "                     filters_3x3=192,\n",
        "                     filters_5x5_reduce=32,\n",
        "                     filters_5x5=96,\n",
        "                     filters_pool_proj=64,\n",
        "                     name='inception_3b')\n",
        "\n",
        "x = MaxPool2D((3, 3), padding='same', strides=(2, 2), name='max_pool_3_3x3/2')(x)\n",
        "\n",
        "x = inception_module(x,\n",
        "                     filters_1x1=192,\n",
        "                     filters_3x3_reduce=96,\n",
        "                     filters_3x3=208,\n",
        "                     filters_5x5_reduce=16,\n",
        "                     filters_5x5=48,\n",
        "                     filters_pool_proj=64,\n",
        "                     name='inception_4a')\n",
        "\n",
        "\n",
        "x1 = AveragePooling2D((5, 5), strides=3)(x)\n",
        "x1 = Conv2D(128, (1, 1), padding='same', activation='relu')(x1)\n",
        "x1 = Flatten()(x1)\n",
        "x1 = Dense(1024, activation='relu')(x1)\n",
        "x1 = Dropout(0.7)(x1)\n",
        "x1 = Dense(10, activation='softmax', name='auxilliary_output_1')(x1)\n",
        "\n",
        "x = inception_module(x,\n",
        "                     filters_1x1=160,\n",
        "                     filters_3x3_reduce=112,\n",
        "                     filters_3x3=224,\n",
        "                     filters_5x5_reduce=24,\n",
        "                     filters_5x5=64,\n",
        "                     filters_pool_proj=64,\n",
        "                     name='inception_4b')\n",
        "\n",
        "x = inception_module(x,\n",
        "                     filters_1x1=128,\n",
        "                     filters_3x3_reduce=128,\n",
        "                     filters_3x3=256,\n",
        "                     filters_5x5_reduce=24,\n",
        "                     filters_5x5=64,\n",
        "                     filters_pool_proj=64,\n",
        "                     name='inception_4c')\n",
        "\n",
        "x = inception_module(x,\n",
        "                     filters_1x1=112,\n",
        "                     filters_3x3_reduce=144,\n",
        "                     filters_3x3=288,\n",
        "                     filters_5x5_reduce=32,\n",
        "                     filters_5x5=64,\n",
        "                     filters_pool_proj=64,\n",
        "                     name='inception_4d')\n",
        "\n",
        "\n",
        "x2 = AveragePooling2D((5, 5), strides=3)(x)\n",
        "x2 = Conv2D(128, (1, 1), padding='same', activation='relu')(x2)\n",
        "x2 = Flatten()(x2)\n",
        "x2 = Dense(1024, activation='relu')(x2)\n",
        "x2 = Dropout(0.7)(x2)\n",
        "x2 = Dense(10, activation='softmax', name='auxilliary_output_2')(x2)\n",
        "\n",
        "x = inception_module(x,\n",
        "                     filters_1x1=256,\n",
        "                     filters_3x3_reduce=160,\n",
        "                     filters_3x3=320,\n",
        "                     filters_5x5_reduce=32,\n",
        "                     filters_5x5=128,\n",
        "                     filters_pool_proj=128,\n",
        "                     name='inception_4e')\n",
        "\n",
        "x = MaxPool2D((3, 3), padding='same', strides=(2, 2), name='max_pool_4_3x3/2')(x)\n",
        "\n",
        "x = inception_module(x,\n",
        "                     filters_1x1=256,\n",
        "                     filters_3x3_reduce=160,\n",
        "                     filters_3x3=320,\n",
        "                     filters_5x5_reduce=32,\n",
        "                     filters_5x5=128,\n",
        "                     filters_pool_proj=128,\n",
        "                     name='inception_5a')\n",
        "\n",
        "x = inception_module(x,\n",
        "                     filters_1x1=384,\n",
        "                     filters_3x3_reduce=192,\n",
        "                     filters_3x3=384,\n",
        "                     filters_5x5_reduce=48,\n",
        "                     filters_5x5=128,\n",
        "                     filters_pool_proj=128,\n",
        "                     name='inception_5b')\n",
        "\n",
        "x = GlobalAveragePooling2D(name='avg_pool_5_3x3/1')(x)\n",
        "\n",
        "x = Dropout(0.4)(x)\n",
        "\n",
        "x = Dense(10, activation='softmax', name='output')(x)\n",
        "model = Model(input_layer, [x, x1, x2], name='inception_v1')\n"
      ],
      "execution_count": null,
      "outputs": [
        {
          "output_type": "stream",
          "text": [
            "WARNING:tensorflow:From /usr/local/lib/python3.6/dist-packages/keras/backend/tensorflow_backend.py:66: The name tf.get_default_graph is deprecated. Please use tf.compat.v1.get_default_graph instead.\n",
            "\n",
            "WARNING:tensorflow:From /usr/local/lib/python3.6/dist-packages/keras/backend/tensorflow_backend.py:541: The name tf.placeholder is deprecated. Please use tf.compat.v1.placeholder instead.\n",
            "\n",
            "WARNING:tensorflow:From /usr/local/lib/python3.6/dist-packages/keras/backend/tensorflow_backend.py:4432: The name tf.random_uniform is deprecated. Please use tf.random.uniform instead.\n",
            "\n",
            "WARNING:tensorflow:From /usr/local/lib/python3.6/dist-packages/keras/backend/tensorflow_backend.py:4267: The name tf.nn.max_pool is deprecated. Please use tf.nn.max_pool2d instead.\n",
            "\n",
            "WARNING:tensorflow:From /usr/local/lib/python3.6/dist-packages/keras/backend/tensorflow_backend.py:4271: The name tf.nn.avg_pool is deprecated. Please use tf.nn.avg_pool2d instead.\n",
            "\n",
            "WARNING:tensorflow:From /usr/local/lib/python3.6/dist-packages/keras/backend/tensorflow_backend.py:148: The name tf.placeholder_with_default is deprecated. Please use tf.compat.v1.placeholder_with_default instead.\n",
            "\n",
            "WARNING:tensorflow:From /usr/local/lib/python3.6/dist-packages/keras/backend/tensorflow_backend.py:3733: calling dropout (from tensorflow.python.ops.nn_ops) with keep_prob is deprecated and will be removed in a future version.\n",
            "Instructions for updating:\n",
            "Please use `rate` instead of `keep_prob`. Rate should be set to `rate = 1 - keep_prob`.\n",
            "WARNING:tensorflow:Large dropout rate: 0.7 (>0.5). In TensorFlow 2.x, dropout() uses dropout rate instead of keep_prob. Please ensure that this is intended.\n",
            "WARNING:tensorflow:Large dropout rate: 0.7 (>0.5). In TensorFlow 2.x, dropout() uses dropout rate instead of keep_prob. Please ensure that this is intended.\n"
          ],
          "name": "stdout"
        }
      ]
    },
    {
      "cell_type": "code",
      "metadata": {
        "id": "M2ovbq9IF07b",
        "outputId": "dadd968a-16f5-4c0f-c2dd-206583765133",
        "colab": {
          "base_uri": "https://localhost:8080/",
          "height": 1000
        }
      },
      "source": [
        "model.summary()"
      ],
      "execution_count": null,
      "outputs": [
        {
          "output_type": "stream",
          "text": [
            "Model: \"inception_v1\"\n",
            "__________________________________________________________________________________________________\n",
            "Layer (type)                    Output Shape         Param #     Connected to                     \n",
            "==================================================================================================\n",
            "input_1 (InputLayer)            (None, 112, 112, 3)  0                                            \n",
            "__________________________________________________________________________________________________\n",
            "conv_1_7x7/2 (Conv2D)           (None, 56, 56, 64)   9472        input_1[0][0]                    \n",
            "__________________________________________________________________________________________________\n",
            "max_pool_1_3x3/2 (MaxPooling2D) (None, 28, 28, 64)   0           conv_1_7x7/2[0][0]               \n",
            "__________________________________________________________________________________________________\n",
            "conv_2a_3x3/1 (Conv2D)          (None, 28, 28, 64)   4160        max_pool_1_3x3/2[0][0]           \n",
            "__________________________________________________________________________________________________\n",
            "conv_2b_3x3/1 (Conv2D)          (None, 28, 28, 192)  110784      conv_2a_3x3/1[0][0]              \n",
            "__________________________________________________________________________________________________\n",
            "max_pool_2_3x3/2 (MaxPooling2D) (None, 14, 14, 192)  0           conv_2b_3x3/1[0][0]              \n",
            "__________________________________________________________________________________________________\n",
            "conv2d_2 (Conv2D)               (None, 14, 14, 96)   18528       max_pool_2_3x3/2[0][0]           \n",
            "__________________________________________________________________________________________________\n",
            "conv2d_4 (Conv2D)               (None, 14, 14, 16)   3088        max_pool_2_3x3/2[0][0]           \n",
            "__________________________________________________________________________________________________\n",
            "max_pooling2d_1 (MaxPooling2D)  (None, 14, 14, 192)  0           max_pool_2_3x3/2[0][0]           \n",
            "__________________________________________________________________________________________________\n",
            "conv2d_1 (Conv2D)               (None, 14, 14, 64)   12352       max_pool_2_3x3/2[0][0]           \n",
            "__________________________________________________________________________________________________\n",
            "conv2d_3 (Conv2D)               (None, 14, 14, 128)  110720      conv2d_2[0][0]                   \n",
            "__________________________________________________________________________________________________\n",
            "conv2d_5 (Conv2D)               (None, 14, 14, 32)   12832       conv2d_4[0][0]                   \n",
            "__________________________________________________________________________________________________\n",
            "conv2d_6 (Conv2D)               (None, 14, 14, 32)   6176        max_pooling2d_1[0][0]            \n",
            "__________________________________________________________________________________________________\n",
            "inception_3a (Concatenate)      (None, 14, 14, 256)  0           conv2d_1[0][0]                   \n",
            "                                                                 conv2d_3[0][0]                   \n",
            "                                                                 conv2d_5[0][0]                   \n",
            "                                                                 conv2d_6[0][0]                   \n",
            "__________________________________________________________________________________________________\n",
            "conv2d_8 (Conv2D)               (None, 14, 14, 128)  32896       inception_3a[0][0]               \n",
            "__________________________________________________________________________________________________\n",
            "conv2d_10 (Conv2D)              (None, 14, 14, 32)   8224        inception_3a[0][0]               \n",
            "__________________________________________________________________________________________________\n",
            "max_pooling2d_2 (MaxPooling2D)  (None, 14, 14, 256)  0           inception_3a[0][0]               \n",
            "__________________________________________________________________________________________________\n",
            "conv2d_7 (Conv2D)               (None, 14, 14, 128)  32896       inception_3a[0][0]               \n",
            "__________________________________________________________________________________________________\n",
            "conv2d_9 (Conv2D)               (None, 14, 14, 192)  221376      conv2d_8[0][0]                   \n",
            "__________________________________________________________________________________________________\n",
            "conv2d_11 (Conv2D)              (None, 14, 14, 96)   76896       conv2d_10[0][0]                  \n",
            "__________________________________________________________________________________________________\n",
            "conv2d_12 (Conv2D)              (None, 14, 14, 64)   16448       max_pooling2d_2[0][0]            \n",
            "__________________________________________________________________________________________________\n",
            "inception_3b (Concatenate)      (None, 14, 14, 480)  0           conv2d_7[0][0]                   \n",
            "                                                                 conv2d_9[0][0]                   \n",
            "                                                                 conv2d_11[0][0]                  \n",
            "                                                                 conv2d_12[0][0]                  \n",
            "__________________________________________________________________________________________________\n",
            "max_pool_3_3x3/2 (MaxPooling2D) (None, 7, 7, 480)    0           inception_3b[0][0]               \n",
            "__________________________________________________________________________________________________\n",
            "conv2d_14 (Conv2D)              (None, 7, 7, 96)     46176       max_pool_3_3x3/2[0][0]           \n",
            "__________________________________________________________________________________________________\n",
            "conv2d_16 (Conv2D)              (None, 7, 7, 16)     7696        max_pool_3_3x3/2[0][0]           \n",
            "__________________________________________________________________________________________________\n",
            "max_pooling2d_3 (MaxPooling2D)  (None, 7, 7, 480)    0           max_pool_3_3x3/2[0][0]           \n",
            "__________________________________________________________________________________________________\n",
            "conv2d_13 (Conv2D)              (None, 7, 7, 192)    92352       max_pool_3_3x3/2[0][0]           \n",
            "__________________________________________________________________________________________________\n",
            "conv2d_15 (Conv2D)              (None, 7, 7, 208)    179920      conv2d_14[0][0]                  \n",
            "__________________________________________________________________________________________________\n",
            "conv2d_17 (Conv2D)              (None, 7, 7, 48)     19248       conv2d_16[0][0]                  \n",
            "__________________________________________________________________________________________________\n",
            "conv2d_18 (Conv2D)              (None, 7, 7, 64)     30784       max_pooling2d_3[0][0]            \n",
            "__________________________________________________________________________________________________\n",
            "inception_4a (Concatenate)      (None, 7, 7, 512)    0           conv2d_13[0][0]                  \n",
            "                                                                 conv2d_15[0][0]                  \n",
            "                                                                 conv2d_17[0][0]                  \n",
            "                                                                 conv2d_18[0][0]                  \n",
            "__________________________________________________________________________________________________\n",
            "conv2d_21 (Conv2D)              (None, 7, 7, 112)    57456       inception_4a[0][0]               \n",
            "__________________________________________________________________________________________________\n",
            "conv2d_23 (Conv2D)              (None, 7, 7, 24)     12312       inception_4a[0][0]               \n",
            "__________________________________________________________________________________________________\n",
            "max_pooling2d_4 (MaxPooling2D)  (None, 7, 7, 512)    0           inception_4a[0][0]               \n",
            "__________________________________________________________________________________________________\n",
            "conv2d_20 (Conv2D)              (None, 7, 7, 160)    82080       inception_4a[0][0]               \n",
            "__________________________________________________________________________________________________\n",
            "conv2d_22 (Conv2D)              (None, 7, 7, 224)    226016      conv2d_21[0][0]                  \n",
            "__________________________________________________________________________________________________\n",
            "conv2d_24 (Conv2D)              (None, 7, 7, 64)     38464       conv2d_23[0][0]                  \n",
            "__________________________________________________________________________________________________\n",
            "conv2d_25 (Conv2D)              (None, 7, 7, 64)     32832       max_pooling2d_4[0][0]            \n",
            "__________________________________________________________________________________________________\n",
            "inception_4b (Concatenate)      (None, 7, 7, 512)    0           conv2d_20[0][0]                  \n",
            "                                                                 conv2d_22[0][0]                  \n",
            "                                                                 conv2d_24[0][0]                  \n",
            "                                                                 conv2d_25[0][0]                  \n",
            "__________________________________________________________________________________________________\n",
            "conv2d_27 (Conv2D)              (None, 7, 7, 128)    65664       inception_4b[0][0]               \n",
            "__________________________________________________________________________________________________\n",
            "conv2d_29 (Conv2D)              (None, 7, 7, 24)     12312       inception_4b[0][0]               \n",
            "__________________________________________________________________________________________________\n",
            "max_pooling2d_5 (MaxPooling2D)  (None, 7, 7, 512)    0           inception_4b[0][0]               \n",
            "__________________________________________________________________________________________________\n",
            "conv2d_26 (Conv2D)              (None, 7, 7, 128)    65664       inception_4b[0][0]               \n",
            "__________________________________________________________________________________________________\n",
            "conv2d_28 (Conv2D)              (None, 7, 7, 256)    295168      conv2d_27[0][0]                  \n",
            "__________________________________________________________________________________________________\n",
            "conv2d_30 (Conv2D)              (None, 7, 7, 64)     38464       conv2d_29[0][0]                  \n",
            "__________________________________________________________________________________________________\n",
            "conv2d_31 (Conv2D)              (None, 7, 7, 64)     32832       max_pooling2d_5[0][0]            \n",
            "__________________________________________________________________________________________________\n",
            "inception_4c (Concatenate)      (None, 7, 7, 512)    0           conv2d_26[0][0]                  \n",
            "                                                                 conv2d_28[0][0]                  \n",
            "                                                                 conv2d_30[0][0]                  \n",
            "                                                                 conv2d_31[0][0]                  \n",
            "__________________________________________________________________________________________________\n",
            "conv2d_33 (Conv2D)              (None, 7, 7, 144)    73872       inception_4c[0][0]               \n",
            "__________________________________________________________________________________________________\n",
            "conv2d_35 (Conv2D)              (None, 7, 7, 32)     16416       inception_4c[0][0]               \n",
            "__________________________________________________________________________________________________\n",
            "max_pooling2d_6 (MaxPooling2D)  (None, 7, 7, 512)    0           inception_4c[0][0]               \n",
            "__________________________________________________________________________________________________\n",
            "conv2d_32 (Conv2D)              (None, 7, 7, 112)    57456       inception_4c[0][0]               \n",
            "__________________________________________________________________________________________________\n",
            "conv2d_34 (Conv2D)              (None, 7, 7, 288)    373536      conv2d_33[0][0]                  \n",
            "__________________________________________________________________________________________________\n",
            "conv2d_36 (Conv2D)              (None, 7, 7, 64)     51264       conv2d_35[0][0]                  \n",
            "__________________________________________________________________________________________________\n",
            "conv2d_37 (Conv2D)              (None, 7, 7, 64)     32832       max_pooling2d_6[0][0]            \n",
            "__________________________________________________________________________________________________\n",
            "inception_4d (Concatenate)      (None, 7, 7, 528)    0           conv2d_32[0][0]                  \n",
            "                                                                 conv2d_34[0][0]                  \n",
            "                                                                 conv2d_36[0][0]                  \n",
            "                                                                 conv2d_37[0][0]                  \n",
            "__________________________________________________________________________________________________\n",
            "conv2d_40 (Conv2D)              (None, 7, 7, 160)    84640       inception_4d[0][0]               \n",
            "__________________________________________________________________________________________________\n",
            "conv2d_42 (Conv2D)              (None, 7, 7, 32)     16928       inception_4d[0][0]               \n",
            "__________________________________________________________________________________________________\n",
            "max_pooling2d_7 (MaxPooling2D)  (None, 7, 7, 528)    0           inception_4d[0][0]               \n",
            "__________________________________________________________________________________________________\n",
            "conv2d_39 (Conv2D)              (None, 7, 7, 256)    135424      inception_4d[0][0]               \n",
            "__________________________________________________________________________________________________\n",
            "conv2d_41 (Conv2D)              (None, 7, 7, 320)    461120      conv2d_40[0][0]                  \n",
            "__________________________________________________________________________________________________\n",
            "conv2d_43 (Conv2D)              (None, 7, 7, 128)    102528      conv2d_42[0][0]                  \n",
            "__________________________________________________________________________________________________\n",
            "conv2d_44 (Conv2D)              (None, 7, 7, 128)    67712       max_pooling2d_7[0][0]            \n",
            "__________________________________________________________________________________________________\n",
            "inception_4e (Concatenate)      (None, 7, 7, 832)    0           conv2d_39[0][0]                  \n",
            "                                                                 conv2d_41[0][0]                  \n",
            "                                                                 conv2d_43[0][0]                  \n",
            "                                                                 conv2d_44[0][0]                  \n",
            "__________________________________________________________________________________________________\n",
            "max_pool_4_3x3/2 (MaxPooling2D) (None, 4, 4, 832)    0           inception_4e[0][0]               \n",
            "__________________________________________________________________________________________________\n",
            "conv2d_46 (Conv2D)              (None, 4, 4, 160)    133280      max_pool_4_3x3/2[0][0]           \n",
            "__________________________________________________________________________________________________\n",
            "conv2d_48 (Conv2D)              (None, 4, 4, 32)     26656       max_pool_4_3x3/2[0][0]           \n",
            "__________________________________________________________________________________________________\n",
            "max_pooling2d_8 (MaxPooling2D)  (None, 4, 4, 832)    0           max_pool_4_3x3/2[0][0]           \n",
            "__________________________________________________________________________________________________\n",
            "conv2d_45 (Conv2D)              (None, 4, 4, 256)    213248      max_pool_4_3x3/2[0][0]           \n",
            "__________________________________________________________________________________________________\n",
            "conv2d_47 (Conv2D)              (None, 4, 4, 320)    461120      conv2d_46[0][0]                  \n",
            "__________________________________________________________________________________________________\n",
            "conv2d_49 (Conv2D)              (None, 4, 4, 128)    102528      conv2d_48[0][0]                  \n",
            "__________________________________________________________________________________________________\n",
            "conv2d_50 (Conv2D)              (None, 4, 4, 128)    106624      max_pooling2d_8[0][0]            \n",
            "__________________________________________________________________________________________________\n",
            "inception_5a (Concatenate)      (None, 4, 4, 832)    0           conv2d_45[0][0]                  \n",
            "                                                                 conv2d_47[0][0]                  \n",
            "                                                                 conv2d_49[0][0]                  \n",
            "                                                                 conv2d_50[0][0]                  \n",
            "__________________________________________________________________________________________________\n",
            "conv2d_52 (Conv2D)              (None, 4, 4, 192)    159936      inception_5a[0][0]               \n",
            "__________________________________________________________________________________________________\n",
            "conv2d_54 (Conv2D)              (None, 4, 4, 48)     39984       inception_5a[0][0]               \n",
            "__________________________________________________________________________________________________\n",
            "max_pooling2d_9 (MaxPooling2D)  (None, 4, 4, 832)    0           inception_5a[0][0]               \n",
            "__________________________________________________________________________________________________\n",
            "average_pooling2d_1 (AveragePoo (None, 1, 1, 512)    0           inception_4a[0][0]               \n",
            "__________________________________________________________________________________________________\n",
            "average_pooling2d_2 (AveragePoo (None, 1, 1, 528)    0           inception_4d[0][0]               \n",
            "__________________________________________________________________________________________________\n",
            "conv2d_51 (Conv2D)              (None, 4, 4, 384)    319872      inception_5a[0][0]               \n",
            "__________________________________________________________________________________________________\n",
            "conv2d_53 (Conv2D)              (None, 4, 4, 384)    663936      conv2d_52[0][0]                  \n",
            "__________________________________________________________________________________________________\n",
            "conv2d_55 (Conv2D)              (None, 4, 4, 128)    153728      conv2d_54[0][0]                  \n",
            "__________________________________________________________________________________________________\n",
            "conv2d_56 (Conv2D)              (None, 4, 4, 128)    106624      max_pooling2d_9[0][0]            \n",
            "__________________________________________________________________________________________________\n",
            "conv2d_19 (Conv2D)              (None, 1, 1, 128)    65664       average_pooling2d_1[0][0]        \n",
            "__________________________________________________________________________________________________\n",
            "conv2d_38 (Conv2D)              (None, 1, 1, 128)    67712       average_pooling2d_2[0][0]        \n",
            "__________________________________________________________________________________________________\n",
            "inception_5b (Concatenate)      (None, 4, 4, 1024)   0           conv2d_51[0][0]                  \n",
            "                                                                 conv2d_53[0][0]                  \n",
            "                                                                 conv2d_55[0][0]                  \n",
            "                                                                 conv2d_56[0][0]                  \n",
            "__________________________________________________________________________________________________\n",
            "flatten_1 (Flatten)             (None, 128)          0           conv2d_19[0][0]                  \n",
            "__________________________________________________________________________________________________\n",
            "flatten_2 (Flatten)             (None, 128)          0           conv2d_38[0][0]                  \n",
            "__________________________________________________________________________________________________\n",
            "avg_pool_5_3x3/1 (GlobalAverage (None, 1024)         0           inception_5b[0][0]               \n",
            "__________________________________________________________________________________________________\n",
            "dense_1 (Dense)                 (None, 1024)         132096      flatten_1[0][0]                  \n",
            "__________________________________________________________________________________________________\n",
            "dense_2 (Dense)                 (None, 1024)         132096      flatten_2[0][0]                  \n",
            "__________________________________________________________________________________________________\n",
            "dropout_3 (Dropout)             (None, 1024)         0           avg_pool_5_3x3/1[0][0]           \n",
            "__________________________________________________________________________________________________\n",
            "dropout_1 (Dropout)             (None, 1024)         0           dense_1[0][0]                    \n",
            "__________________________________________________________________________________________________\n",
            "dropout_2 (Dropout)             (None, 1024)         0           dense_2[0][0]                    \n",
            "__________________________________________________________________________________________________\n",
            "output (Dense)                  (None, 10)           10250       dropout_3[0][0]                  \n",
            "__________________________________________________________________________________________________\n",
            "auxilliary_output_1 (Dense)     (None, 10)           10250       dropout_1[0][0]                  \n",
            "__________________________________________________________________________________________________\n",
            "auxilliary_output_2 (Dense)     (None, 10)           10250       dropout_2[0][0]                  \n",
            "==================================================================================================\n",
            "Total params: 6,401,870\n",
            "Trainable params: 6,401,870\n",
            "Non-trainable params: 0\n",
            "__________________________________________________________________________________________________\n"
          ],
          "name": "stdout"
        }
      ]
    },
    {
      "cell_type": "code",
      "metadata": {
        "id": "_QUixyzD5Lmy",
        "outputId": "0ac9502a-740c-452d-b76c-3353796d5566",
        "colab": {
          "base_uri": "https://localhost:8080/",
          "height": 34
        }
      },
      "source": [
        "X_train.shape"
      ],
      "execution_count": null,
      "outputs": [
        {
          "output_type": "execute_result",
          "data": {
            "text/plain": [
              "(50000, 112, 112, 3)"
            ]
          },
          "metadata": {
            "tags": []
          },
          "execution_count": 13
        }
      ]
    },
    {
      "cell_type": "code",
      "metadata": {
        "id": "IKKvfsY-F5pp",
        "outputId": "b78cb19e-744e-4e23-9b8d-5abac7efae16",
        "colab": {
          "base_uri": "https://localhost:8080/",
          "height": 1000
        }
      },
      "source": [
        "epochs = 25\n",
        "initial_lrate = 0.01\n",
        "\n",
        "def decay(epoch, steps=100):\n",
        "    initial_lrate = 0.01\n",
        "    drop = 0.96\n",
        "    epochs_drop = 8\n",
        "    lrate = initial_lrate * math.pow(drop, math.floor((1+epoch)/epochs_drop))\n",
        "    return lrate\n",
        "\n",
        "sgd = SGD(lr=initial_lrate, momentum=0.9, nesterov=False)\n",
        "\n",
        "lr_sc = LearningRateScheduler(decay, verbose=1)\n",
        "\n",
        "model.compile(loss=['categorical_crossentropy', 'categorical_crossentropy', 'categorical_crossentropy'], loss_weights=[1, 0.3, 0.3], optimizer=sgd, metrics=['accuracy'])\n",
        "history = model.fit(X_train, [y_train, y_train, y_train], validation_data=(X_test, [y_test, y_test, y_test]), epochs=epochs, batch_size=256, callbacks=[lr_sc])\n"
      ],
      "execution_count": null,
      "outputs": [
        {
          "output_type": "stream",
          "text": [
            "Train on 50000 samples, validate on 10000 samples\n",
            "Epoch 1/25\n",
            "\n",
            "Epoch 00001: LearningRateScheduler setting learning rate to 0.01.\n",
            "50000/50000 [==============================] - 39s 781us/step - loss: 3.3233 - output_loss: 2.0508 - auxilliary_output_1_loss: 2.1271 - auxilliary_output_2_loss: 2.1145 - output_acc: 0.2271 - auxilliary_output_1_acc: 0.1898 - auxilliary_output_2_acc: 0.1936 - val_loss: 3.0833 - val_output_loss: 1.8981 - val_auxilliary_output_1_loss: 1.9858 - val_auxilliary_output_2_loss: 1.9646 - val_output_acc: 0.2902 - val_auxilliary_output_1_acc: 0.2532 - val_auxilliary_output_2_acc: 0.2582\n",
            "Epoch 2/25\n",
            "\n",
            "Epoch 00002: LearningRateScheduler setting learning rate to 0.01.\n",
            "50000/50000 [==============================] - 35s 707us/step - loss: 2.9829 - output_loss: 1.8234 - auxilliary_output_1_loss: 1.9463 - auxilliary_output_2_loss: 1.9188 - output_acc: 0.3169 - auxilliary_output_1_acc: 0.2491 - auxilliary_output_2_acc: 0.2679 - val_loss: 2.8684 - val_output_loss: 1.7657 - val_auxilliary_output_1_loss: 1.8480 - val_auxilliary_output_2_loss: 1.8280 - val_output_acc: 0.3392 - val_auxilliary_output_1_acc: 0.3261 - val_auxilliary_output_2_acc: 0.3231\n",
            "Epoch 3/25\n",
            "\n",
            "Epoch 00003: LearningRateScheduler setting learning rate to 0.01.\n",
            "50000/50000 [==============================] - 35s 706us/step - loss: 2.7057 - output_loss: 1.6515 - auxilliary_output_1_loss: 1.7849 - auxilliary_output_2_loss: 1.7291 - output_acc: 0.3819 - auxilliary_output_1_acc: 0.3160 - auxilliary_output_2_acc: 0.3444 - val_loss: 2.5668 - val_output_loss: 1.5741 - val_auxilliary_output_1_loss: 1.6928 - val_auxilliary_output_2_loss: 1.6162 - val_output_acc: 0.4069 - val_auxilliary_output_1_acc: 0.3656 - val_auxilliary_output_2_acc: 0.3899\n",
            "Epoch 4/25\n",
            "\n",
            "Epoch 00004: LearningRateScheduler setting learning rate to 0.01.\n",
            "50000/50000 [==============================] - 35s 703us/step - loss: 2.4543 - output_loss: 1.4944 - auxilliary_output_1_loss: 1.6377 - auxilliary_output_2_loss: 1.5621 - output_acc: 0.4409 - auxilliary_output_1_acc: 0.3793 - auxilliary_output_2_acc: 0.4129 - val_loss: 2.2989 - val_output_loss: 1.3985 - val_auxilliary_output_1_loss: 1.5609 - val_auxilliary_output_2_loss: 1.4402 - val_output_acc: 0.4857 - val_auxilliary_output_1_acc: 0.4267 - val_auxilliary_output_2_acc: 0.4693\n",
            "Epoch 5/25\n",
            "\n",
            "Epoch 00005: LearningRateScheduler setting learning rate to 0.01.\n",
            "50000/50000 [==============================] - 35s 703us/step - loss: 2.2519 - output_loss: 1.3652 - auxilliary_output_1_loss: 1.5220 - auxilliary_output_2_loss: 1.4335 - output_acc: 0.4930 - auxilliary_output_1_acc: 0.4267 - auxilliary_output_2_acc: 0.4693 - val_loss: 2.1515 - val_output_loss: 1.3060 - val_auxilliary_output_1_loss: 1.4437 - val_auxilliary_output_2_loss: 1.3746 - val_output_acc: 0.5237 - val_auxilliary_output_1_acc: 0.4712 - val_auxilliary_output_2_acc: 0.4977\n",
            "Epoch 6/25\n",
            "\n",
            "Epoch 00006: LearningRateScheduler setting learning rate to 0.01.\n",
            "50000/50000 [==============================] - 35s 702us/step - loss: 2.0109 - output_loss: 1.2088 - auxilliary_output_1_loss: 1.3900 - auxilliary_output_2_loss: 1.2837 - output_acc: 0.5581 - auxilliary_output_1_acc: 0.4854 - auxilliary_output_2_acc: 0.5331 - val_loss: 1.8826 - val_output_loss: 1.1431 - val_auxilliary_output_1_loss: 1.2886 - val_auxilliary_output_2_loss: 1.1762 - val_output_acc: 0.5907 - val_auxilliary_output_1_acc: 0.5336 - val_auxilliary_output_2_acc: 0.5741\n",
            "Epoch 7/25\n",
            "\n",
            "Epoch 00007: LearningRateScheduler setting learning rate to 0.01.\n",
            "50000/50000 [==============================] - 35s 703us/step - loss: 1.8405 - output_loss: 1.1027 - auxilliary_output_1_loss: 1.2814 - auxilliary_output_2_loss: 1.1780 - output_acc: 0.6002 - auxilliary_output_1_acc: 0.5318 - auxilliary_output_2_acc: 0.5767 - val_loss: 1.6606 - val_output_loss: 0.9922 - val_auxilliary_output_1_loss: 1.1910 - val_auxilliary_output_2_loss: 1.0372 - val_output_acc: 0.6422 - val_auxilliary_output_1_acc: 0.5834 - val_auxilliary_output_2_acc: 0.6344\n",
            "Epoch 8/25\n",
            "\n",
            "Epoch 00008: LearningRateScheduler setting learning rate to 0.0096.\n",
            "50000/50000 [==============================] - 35s 705us/step - loss: 1.6673 - output_loss: 0.9931 - auxilliary_output_1_loss: 1.1801 - auxilliary_output_2_loss: 1.0673 - output_acc: 0.6426 - auxilliary_output_1_acc: 0.5767 - auxilliary_output_2_acc: 0.6199 - val_loss: 1.6005 - val_output_loss: 0.9492 - val_auxilliary_output_1_loss: 1.1618 - val_auxilliary_output_2_loss: 1.0094 - val_output_acc: 0.6655 - val_auxilliary_output_1_acc: 0.5680 - val_auxilliary_output_2_acc: 0.6389\n",
            "Epoch 9/25\n",
            "\n",
            "Epoch 00009: LearningRateScheduler setting learning rate to 0.0096.\n",
            "50000/50000 [==============================] - 35s 704us/step - loss: 1.5063 - output_loss: 0.8912 - auxilliary_output_1_loss: 1.0836 - auxilliary_output_2_loss: 0.9666 - output_acc: 0.6833 - auxilliary_output_1_acc: 0.6133 - auxilliary_output_2_acc: 0.6603 - val_loss: 1.6666 - val_output_loss: 1.0031 - val_auxilliary_output_1_loss: 1.1344 - val_auxilliary_output_2_loss: 1.0770 - val_output_acc: 0.6447 - val_auxilliary_output_1_acc: 0.5819 - val_auxilliary_output_2_acc: 0.6188\n",
            "Epoch 10/25\n",
            "\n",
            "Epoch 00010: LearningRateScheduler setting learning rate to 0.0096.\n",
            "50000/50000 [==============================] - 35s 703us/step - loss: 1.3820 - output_loss: 0.8127 - auxilliary_output_1_loss: 1.0091 - auxilliary_output_2_loss: 0.8885 - output_acc: 0.7127 - auxilliary_output_1_acc: 0.6409 - auxilliary_output_2_acc: 0.6900 - val_loss: 1.5034 - val_output_loss: 0.9221 - val_auxilliary_output_1_loss: 0.9918 - val_auxilliary_output_2_loss: 0.9460 - val_output_acc: 0.6802 - val_auxilliary_output_1_acc: 0.6481 - val_auxilliary_output_2_acc: 0.6691\n",
            "Epoch 11/25\n",
            "\n",
            "Epoch 00011: LearningRateScheduler setting learning rate to 0.0096.\n",
            "50000/50000 [==============================] - 35s 703us/step - loss: 1.2789 - output_loss: 0.7483 - auxilliary_output_1_loss: 0.9480 - auxilliary_output_2_loss: 0.8205 - output_acc: 0.7364 - auxilliary_output_1_acc: 0.6657 - auxilliary_output_2_acc: 0.7155 - val_loss: 1.3072 - val_output_loss: 0.7898 - val_auxilliary_output_1_loss: 0.9386 - val_auxilliary_output_2_loss: 0.7860 - val_output_acc: 0.7252 - val_auxilliary_output_1_acc: 0.6627 - val_auxilliary_output_2_acc: 0.7254\n",
            "Epoch 12/25\n",
            "\n",
            "Epoch 00012: LearningRateScheduler setting learning rate to 0.0096.\n",
            "50000/50000 [==============================] - 35s 706us/step - loss: 1.1410 - output_loss: 0.6608 - auxilliary_output_1_loss: 0.8683 - auxilliary_output_2_loss: 0.7323 - output_acc: 0.7677 - auxilliary_output_1_acc: 0.6954 - auxilliary_output_2_acc: 0.7451 - val_loss: 1.2851 - val_output_loss: 0.7901 - val_auxilliary_output_1_loss: 0.8259 - val_auxilliary_output_2_loss: 0.8241 - val_output_acc: 0.7284 - val_auxilliary_output_1_acc: 0.7135 - val_auxilliary_output_2_acc: 0.7181\n",
            "Epoch 13/25\n",
            "\n",
            "Epoch 00013: LearningRateScheduler setting learning rate to 0.0096.\n",
            "50000/50000 [==============================] - 35s 706us/step - loss: 1.0474 - output_loss: 0.6031 - auxilliary_output_1_loss: 0.8107 - auxilliary_output_2_loss: 0.6701 - output_acc: 0.7906 - auxilliary_output_1_acc: 0.7162 - auxilliary_output_2_acc: 0.7694 - val_loss: 1.1622 - val_output_loss: 0.7003 - val_auxilliary_output_1_loss: 0.8128 - val_auxilliary_output_2_loss: 0.7266 - val_output_acc: 0.7635 - val_auxilliary_output_1_acc: 0.7160 - val_auxilliary_output_2_acc: 0.7510\n",
            "Epoch 14/25\n",
            "\n",
            "Epoch 00014: LearningRateScheduler setting learning rate to 0.0096.\n",
            "50000/50000 [==============================] - 35s 706us/step - loss: 0.9932 - output_loss: 0.5685 - auxilliary_output_1_loss: 0.7808 - auxilliary_output_2_loss: 0.6349 - output_acc: 0.8031 - auxilliary_output_1_acc: 0.7286 - auxilliary_output_2_acc: 0.7821 - val_loss: 1.2869 - val_output_loss: 0.7804 - val_auxilliary_output_1_loss: 0.8352 - val_auxilliary_output_2_loss: 0.8533 - val_output_acc: 0.7401 - val_auxilliary_output_1_acc: 0.7109 - val_auxilliary_output_2_acc: 0.7165\n",
            "Epoch 15/25\n",
            "\n",
            "Epoch 00015: LearningRateScheduler setting learning rate to 0.0096.\n",
            "50000/50000 [==============================] - 35s 706us/step - loss: 0.8872 - output_loss: 0.4999 - auxilliary_output_1_loss: 0.7206 - auxilliary_output_2_loss: 0.5704 - output_acc: 0.8275 - auxilliary_output_1_acc: 0.7502 - auxilliary_output_2_acc: 0.8045 - val_loss: 1.0403 - val_output_loss: 0.6233 - val_auxilliary_output_1_loss: 0.7508 - val_auxilliary_output_2_loss: 0.6392 - val_output_acc: 0.7868 - val_auxilliary_output_1_acc: 0.7342 - val_auxilliary_output_2_acc: 0.7804\n",
            "Epoch 16/25\n",
            "\n",
            "Epoch 00016: LearningRateScheduler setting learning rate to 0.009216.\n",
            "50000/50000 [==============================] - 35s 707us/step - loss: 0.8133 - output_loss: 0.4513 - auxilliary_output_1_loss: 0.6862 - auxilliary_output_2_loss: 0.5204 - output_acc: 0.8439 - auxilliary_output_1_acc: 0.7632 - auxilliary_output_2_acc: 0.8214 - val_loss: 1.1167 - val_output_loss: 0.6915 - val_auxilliary_output_1_loss: 0.7324 - val_auxilliary_output_2_loss: 0.6851 - val_output_acc: 0.7755 - val_auxilliary_output_1_acc: 0.7494 - val_auxilliary_output_2_acc: 0.7706\n",
            "Epoch 17/25\n",
            "\n",
            "Epoch 00017: LearningRateScheduler setting learning rate to 0.009216.\n",
            "50000/50000 [==============================] - 35s 704us/step - loss: 0.7294 - output_loss: 0.3977 - auxilliary_output_1_loss: 0.6357 - auxilliary_output_2_loss: 0.4700 - output_acc: 0.8614 - auxilliary_output_1_acc: 0.7804 - auxilliary_output_2_acc: 0.8395 - val_loss: 1.2683 - val_output_loss: 0.7919 - val_auxilliary_output_1_loss: 0.8124 - val_auxilliary_output_2_loss: 0.7757 - val_output_acc: 0.7511 - val_auxilliary_output_1_acc: 0.7223 - val_auxilliary_output_2_acc: 0.7419\n",
            "Epoch 18/25\n",
            "\n",
            "Epoch 00018: LearningRateScheduler setting learning rate to 0.009216.\n",
            "50000/50000 [==============================] - 35s 704us/step - loss: 0.6737 - output_loss: 0.3624 - auxilliary_output_1_loss: 0.6056 - auxilliary_output_2_loss: 0.4323 - output_acc: 0.8737 - auxilliary_output_1_acc: 0.7902 - auxilliary_output_2_acc: 0.8499 - val_loss: 1.1180 - val_output_loss: 0.6879 - val_auxilliary_output_1_loss: 0.7489 - val_auxilliary_output_2_loss: 0.6847 - val_output_acc: 0.7860 - val_auxilliary_output_1_acc: 0.7455 - val_auxilliary_output_2_acc: 0.7777\n",
            "Epoch 19/25\n",
            "\n",
            "Epoch 00019: LearningRateScheduler setting learning rate to 0.009216.\n",
            "50000/50000 [==============================] - 35s 704us/step - loss: 0.6084 - output_loss: 0.3200 - auxilliary_output_1_loss: 0.5709 - auxilliary_output_2_loss: 0.3905 - output_acc: 0.8887 - auxilliary_output_1_acc: 0.8021 - auxilliary_output_2_acc: 0.8662 - val_loss: 1.0495 - val_output_loss: 0.6583 - val_auxilliary_output_1_loss: 0.6660 - val_auxilliary_output_2_loss: 0.6382 - val_output_acc: 0.7940 - val_auxilliary_output_1_acc: 0.7691 - val_auxilliary_output_2_acc: 0.7955\n",
            "Epoch 20/25\n",
            "\n",
            "Epoch 00020: LearningRateScheduler setting learning rate to 0.009216.\n",
            "50000/50000 [==============================] - 35s 703us/step - loss: 0.5813 - output_loss: 0.3017 - auxilliary_output_1_loss: 0.5583 - auxilliary_output_2_loss: 0.3737 - output_acc: 0.8946 - auxilliary_output_1_acc: 0.8068 - auxilliary_output_2_acc: 0.8715 - val_loss: 1.2414 - val_output_loss: 0.7869 - val_auxilliary_output_1_loss: 0.7521 - val_auxilliary_output_2_loss: 0.7628 - val_output_acc: 0.7729 - val_auxilliary_output_1_acc: 0.7499 - val_auxilliary_output_2_acc: 0.7654\n",
            "Epoch 21/25\n",
            "\n",
            "Epoch 00021: LearningRateScheduler setting learning rate to 0.009216.\n",
            "50000/50000 [==============================] - 35s 703us/step - loss: 0.5235 - output_loss: 0.2657 - auxilliary_output_1_loss: 0.5242 - auxilliary_output_2_loss: 0.3351 - output_acc: 0.9067 - auxilliary_output_1_acc: 0.8180 - auxilliary_output_2_acc: 0.8835 - val_loss: 1.0347 - val_output_loss: 0.6343 - val_auxilliary_output_1_loss: 0.7056 - val_auxilliary_output_2_loss: 0.6292 - val_output_acc: 0.8112 - val_auxilliary_output_1_acc: 0.7592 - val_auxilliary_output_2_acc: 0.7971\n",
            "Epoch 22/25\n",
            "\n",
            "Epoch 00022: LearningRateScheduler setting learning rate to 0.009216.\n",
            "50000/50000 [==============================] - 35s 706us/step - loss: 0.4525 - output_loss: 0.2209 - auxilliary_output_1_loss: 0.4859 - auxilliary_output_2_loss: 0.2859 - output_acc: 0.9219 - auxilliary_output_1_acc: 0.8332 - auxilliary_output_2_acc: 0.9017 - val_loss: 1.0824 - val_output_loss: 0.6797 - val_auxilliary_output_1_loss: 0.6742 - val_auxilliary_output_2_loss: 0.6678 - val_output_acc: 0.8023 - val_auxilliary_output_1_acc: 0.7662 - val_auxilliary_output_2_acc: 0.7937\n",
            "Epoch 23/25\n",
            "\n",
            "Epoch 00023: LearningRateScheduler setting learning rate to 0.009216.\n",
            "50000/50000 [==============================] - 35s 704us/step - loss: 0.4326 - output_loss: 0.2049 - auxilliary_output_1_loss: 0.4840 - auxilliary_output_2_loss: 0.2753 - output_acc: 0.9293 - auxilliary_output_1_acc: 0.8337 - auxilliary_output_2_acc: 0.9054 - val_loss: 1.6122 - val_output_loss: 1.0324 - val_auxilliary_output_1_loss: 0.9496 - val_auxilliary_output_2_loss: 0.9832 - val_output_acc: 0.7347 - val_auxilliary_output_1_acc: 0.6951 - val_auxilliary_output_2_acc: 0.7229\n",
            "Epoch 24/25\n",
            "\n",
            "Epoch 00024: LearningRateScheduler setting learning rate to 0.008847359999999999.\n",
            "50000/50000 [==============================] - 35s 705us/step - loss: 0.3716 - output_loss: 0.1686 - auxilliary_output_1_loss: 0.4453 - auxilliary_output_2_loss: 0.2311 - output_acc: 0.9409 - auxilliary_output_1_acc: 0.8462 - auxilliary_output_2_acc: 0.9199 - val_loss: 1.1405 - val_output_loss: 0.7453 - val_auxilliary_output_1_loss: 0.6417 - val_auxilliary_output_2_loss: 0.6758 - val_output_acc: 0.8042 - val_auxilliary_output_1_acc: 0.7863 - val_auxilliary_output_2_acc: 0.8028\n",
            "Epoch 25/25\n",
            "\n",
            "Epoch 00025: LearningRateScheduler setting learning rate to 0.008847359999999999.\n",
            "50000/50000 [==============================] - 35s 705us/step - loss: 0.3180 - output_loss: 0.1348 - auxilliary_output_1_loss: 0.4139 - auxilliary_output_2_loss: 0.1966 - output_acc: 0.9520 - auxilliary_output_1_acc: 0.8567 - auxilliary_output_2_acc: 0.9330 - val_loss: 1.2602 - val_output_loss: 0.8443 - val_auxilliary_output_1_loss: 0.6738 - val_auxilliary_output_2_loss: 0.7125 - val_output_acc: 0.7881 - val_auxilliary_output_1_acc: 0.7730 - val_auxilliary_output_2_acc: 0.7905\n"
          ],
          "name": "stdout"
        }
      ]
    },
    {
      "cell_type": "code",
      "metadata": {
        "id": "CejCJHMMHM0S",
        "outputId": "0cf2090b-22a3-4ac3-b615-cc3932c7b9d5",
        "colab": {
          "base_uri": "https://localhost:8080/",
          "height": 68
        }
      },
      "source": [
        "scores = model.evaluate(X_test, [y_test, y_test, y_test], verbose=1)\n",
        "print('Test loss:', scores[0])\n",
        "print('Test accuracy:', scores[1])"
      ],
      "execution_count": null,
      "outputs": [
        {
          "output_type": "stream",
          "text": [
            "10000/10000 [==============================] - 5s 501us/step\n",
            "Test loss: 1.2602205715179444\n",
            "Test accuracy: 0.8443484465122223\n"
          ],
          "name": "stdout"
        }
      ]
    }
  ]
}